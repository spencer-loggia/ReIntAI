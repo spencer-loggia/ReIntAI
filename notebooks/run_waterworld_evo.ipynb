{
 "cells": [
  {
   "cell_type": "code",
   "execution_count": 6,
   "id": "initial_id",
   "metadata": {
    "collapsed": true,
    "ExecuteTime": {
     "end_time": "2024-05-01T21:14:01.892230Z",
     "start_time": "2024-05-01T21:14:01.783867Z"
    }
   },
   "source": [
    "import matplotlib\n",
    "matplotlib.use('Qt5Agg')\n",
    "import matplotlib.pyplot as plt\n",
    "import torch.optim\n",
    "from agent.agents import WaterworldAgent, DisjointWaterWorldAgent\n",
    "from agent.evolve import EvoController\n",
    "import numpy as np\n",
    "import pickle"
   ],
   "outputs": []
  },
  {
   "cell_type": "code",
   "execution_count": 7,
   "source": [
    "agent = DisjointWaterWorldAgent(num_nodes=4, spatial=7, channels=3, input_channels=2)\n",
    "print(agent.input_channels)\n",
    "obs_data = np.loadtxt(\"/Users/loggiasr/Projects/ReIntAI/models/pretrain_data/obs_data.txt\")\n",
    "reward_data = np.loadtxt(\"/Users/loggiasr/Projects/ReIntAI/models/pretrain_data/returns.txt\")\n",
    "print(obs_data.shape)\n",
    "print(reward_data.shape)"
   ],
   "metadata": {
    "collapsed": false,
    "ExecuteTime": {
     "end_time": "2024-05-01T21:14:52.126265Z",
     "start_time": "2024-05-01T21:14:11.481435Z"
    }
   },
   "id": "db06d6826b623924",
   "outputs": []
  },
  {
   "cell_type": "code",
   "execution_count": 3,
   "source": [
    "from sklearn.linear_model import LinearRegression\n",
    "glm = LinearRegression(fit_intercept=False)\n",
    "glm.fit(obs_data, reward_data)\n",
    "# res = glm.predict(obs_data)\n",
    "# print(reward_data - res)\n",
    "agent.value_decoder = torch.nn.Parameter(torch.from_numpy(glm.coef_).float().reshape(-1, 1))\n",
    "# agent.value_decoder.bias = torch.nn.Parameter(torch.from_numpy(np.array([glm.intercept_])).float().flatten())"
   ],
   "metadata": {
    "collapsed": false,
    "ExecuteTime": {
     "end_time": "2024-05-01T19:14:09.498271Z",
     "start_time": "2024-05-01T19:14:03.269271Z"
    }
   },
   "id": "141d7374399b7519",
   "outputs": []
  },
  {
   "cell_type": "code",
   "execution_count": 8,
   "source": [
    "agent.pretrain_agent_input(5000, obs_data)"
   ],
   "metadata": {
    "collapsed": false,
    "ExecuteTime": {
     "end_time": "2024-05-01T21:46:02.240747Z",
     "start_time": "2024-05-01T21:41:01.106133Z"
    }
   },
   "id": "9b5a641a31d8a4cd",
   "outputs": []
  },
  {
   "cell_type": "code",
   "execution_count": 6,
   "source": [
    "fig, axs = plt.subplots(2)\n",
    "axs[0].plot(loss)\n",
    "axs[1].plot(val_loss)\n",
    "plt.show()"
   ],
   "metadata": {
    "collapsed": false,
    "ExecuteTime": {
     "end_time": "2024-05-01T13:06:28.288658Z",
     "start_time": "2024-05-01T13:06:28.250075Z"
    }
   },
   "id": "9244bd64cd9b658b",
   "outputs": []
  },
  {
   "cell_type": "code",
   "execution_count": 9,
   "source": [
    "with open(\"/Users/loggiasr/Projects/ReIntAI/models/wworld_pretrain7.pkl\", \"wb\") as f:\n",
    "    pickle.dump(agent.input_encoder, f)\n",
    "with open(\"/Users/loggiasr/Projects/ReIntAI/models/wworld_val_pretrain7.pkl\", \"wb\") as f:\n",
    "    pickle.dump(agent.value_decoder, f)"
   ],
   "metadata": {
    "collapsed": false,
    "ExecuteTime": {
     "end_time": "2024-05-01T21:46:14.766624Z",
     "start_time": "2024-05-01T21:46:14.761071Z"
    }
   },
   "id": "7cd7c26f22deecea",
   "outputs": []
  },
  {
   "cell_type": "code",
   "execution_count": 2,
   "source": [
    "agent = WaterworldAgent(num_nodes=4, spatial=7, channels=3, input_channels=3)\n",
    "with open(\"/Users/loggiasr/Projects/ReIntAI/models/wworld_pretrain7.pkl\", \"rb\") as f:\n",
    "    in_enc = pickle.load(f)\n",
    "agent.input_encoder = in_enc"
   ],
   "metadata": {
    "collapsed": false,
    "ExecuteTime": {
     "end_time": "2024-04-03T19:18:49.185170Z",
     "start_time": "2024-04-03T19:18:49.163475Z"
    }
   },
   "id": "85a7147c2a26e4ca",
   "outputs": []
  },
  {
   "cell_type": "code",
   "execution_count": 11,
   "source": [
    "with open(\"/Users/loggiasr/Projects/ReIntAI/models/wworld_1.pkl\", \"rb\") as f:\n",
    "    evo = pickle.load(f)"
   ],
   "metadata": {
    "collapsed": false,
    "ExecuteTime": {
     "end_time": "2024-04-02T16:02:07.281248Z",
     "start_time": "2024-04-02T16:02:07.259201Z"
    }
   },
   "id": "ba7e8781f069aa8",
   "outputs": []
  },
  {
   "cell_type": "code",
   "execution_count": 3,
   "source": [
    "evo = EvoController(seed_agent=agent, epochs=5, num_base=5)"
   ],
   "metadata": {
    "collapsed": false,
    "ExecuteTime": {
     "end_time": "2024-04-03T19:18:51.640236Z",
     "start_time": "2024-04-03T19:18:51.526447Z"
    }
   },
   "id": "7ab88f370be9a96a",
   "outputs": []
  },
  {
   "cell_type": "code",
   "execution_count": null,
   "source": [
    "evo.controller(mp=False)"
   ],
   "metadata": {
    "collapsed": false
   },
   "id": "572b7c2173b2fa47",
   "outputs": []
  },
  {
   "cell_type": "code",
   "execution_count": 9,
   "source": [
    "evo.plot_loss()"
   ],
   "metadata": {
    "collapsed": false,
    "ExecuteTime": {
     "end_time": "2024-04-02T16:00:39.476767Z",
     "start_time": "2024-04-02T16:00:39.377462Z"
    }
   },
   "id": "2af79aee06e77be6",
   "outputs": []
  },
  {
   "cell_type": "code",
   "execution_count": 7,
   "source": [
    "with open(\"/Users/loggiasr/Projects/ReIntAI/models/wworld_pt_e200.pkl\", \"wb\") as f:\n",
    "    pickle.dump(evo, f)"
   ],
   "metadata": {
    "collapsed": false,
    "ExecuteTime": {
     "end_time": "2024-04-02T13:22:41.261569Z",
     "start_time": "2024-04-02T13:22:41.247110Z"
    }
   },
   "id": "d840ef45a5b1839e",
   "outputs": []
  },
  {
   "cell_type": "code",
   "execution_count": 15,
   "source": [
    "evo.instances = 1\n",
    "evo.num_agents = 1\n",
    "evo.base_agent[0].input_channels = 3\n",
    "evo.base_agent[0].core_model.detach(reset_intrinsic=True)\n",
    "evo.play(human_interface=True, cyles=500)"
   ],
   "metadata": {
    "collapsed": false,
    "ExecuteTime": {
     "end_time": "2024-04-02T16:13:50.078085Z",
     "start_time": "2024-04-02T16:13:16.378287Z"
    }
   },
   "id": "4d19545d38c11e33",
   "outputs": []
  },
  {
   "cell_type": "code",
   "execution_count": 7,
   "source": [],
   "metadata": {
    "collapsed": false,
    "ExecuteTime": {
     "end_time": "2024-04-01T18:37:18.089686Z",
     "start_time": "2024-04-01T18:37:18.073083Z"
    }
   },
   "id": "9896128b013c53b3",
   "outputs": []
  },
  {
   "cell_type": "code",
   "execution_count": null,
   "source": [],
   "metadata": {
    "collapsed": false
   },
   "id": "903e4bca403bdf95",
   "outputs": []
  }
 ],
 "metadata": {
  "kernelspec": {
   "display_name": "Python 3",
   "language": "python",
   "name": "python3"
  },
  "language_info": {
   "codemirror_mode": {
    "name": "ipython",
    "version": 2
   },
   "file_extension": ".py",
   "mimetype": "text/x-python",
   "name": "python",
   "nbconvert_exporter": "python",
   "pygments_lexer": "ipython2",
   "version": "2.7.6"
  }
 },
 "nbformat": 4,
 "nbformat_minor": 5
}
